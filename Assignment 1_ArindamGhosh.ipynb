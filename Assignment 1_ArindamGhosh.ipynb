{
 "cells": [
  {
   "cell_type": "markdown",
   "id": "9c2245ef",
   "metadata": {},
   "source": [
    "# 1. In the below elements which of them are values or an expression? eg:- values can be integer or string and expressions will be mathematical operators.\n"
   ]
  },
  {
   "cell_type": "code",
   "execution_count": 4,
   "id": "4c6d1bda",
   "metadata": {},
   "outputs": [
    {
     "data": {
      "text/plain": [
       "50"
      ]
     },
     "execution_count": 4,
     "metadata": {},
     "output_type": "execute_result"
    }
   ],
   "source": [
    "5 * 10 #['*' a arithmetic operator its do multiplication operation]"
   ]
  },
  {
   "cell_type": "code",
   "execution_count": 5,
   "id": "3c364cc5",
   "metadata": {},
   "outputs": [
    {
     "data": {
      "text/plain": [
       "str"
      ]
     },
     "execution_count": 5,
     "metadata": {},
     "output_type": "execute_result"
    }
   ],
   "source": [
    "type('hello')#['hello' is a string]"
   ]
  },
  {
   "cell_type": "code",
   "execution_count": 6,
   "id": "ce3a7871",
   "metadata": {},
   "outputs": [
    {
     "data": {
      "text/plain": [
       "float"
      ]
     },
     "execution_count": 6,
     "metadata": {},
     "output_type": "execute_result"
    }
   ],
   "source": [
    "type(-87.8) #[-87.8 in a float]"
   ]
  },
  {
   "cell_type": "code",
   "execution_count": 7,
   "id": "a08b057e",
   "metadata": {},
   "outputs": [
    {
     "data": {
      "text/plain": [
       "60"
      ]
     },
     "execution_count": 7,
     "metadata": {},
     "output_type": "execute_result"
    }
   ],
   "source": [
    "80-20 #['-'a arithmetic operator its do subtraction operation]"
   ]
  },
  {
   "cell_type": "code",
   "execution_count": 10,
   "id": "18d84b1b",
   "metadata": {},
   "outputs": [
    {
     "name": "stdout",
     "output_type": "stream",
     "text": [
      "7.0\n"
     ]
    },
    {
     "data": {
      "text/plain": [
       "float"
      ]
     },
     "execution_count": 10,
     "metadata": {},
     "output_type": "execute_result"
    }
   ],
   "source": [
    "a=49/7 #['/'a arithmetic operator its do division operation it returns float]\n",
    "print(a)\n",
    "type(a)"
   ]
  },
  {
   "cell_type": "code",
   "execution_count": 11,
   "id": "7a119204",
   "metadata": {},
   "outputs": [
    {
     "data": {
      "text/plain": [
       "50"
      ]
     },
     "execution_count": 11,
     "metadata": {},
     "output_type": "execute_result"
    }
   ],
   "source": [
    "45+5 #['+'a arithmetic operator its do addition operation it returns float]"
   ]
  },
  {
   "cell_type": "code",
   "execution_count": 12,
   "id": "1db1564f",
   "metadata": {},
   "outputs": [
    {
     "data": {
      "text/plain": [
       "int"
      ]
     },
     "execution_count": 12,
     "metadata": {},
     "output_type": "execute_result"
    }
   ],
   "source": [
    "type(6)  #[6 in a integer]"
   ]
  },
  {
   "cell_type": "markdown",
   "id": "975d9d66",
   "metadata": {},
   "source": [
    "# 2. What is the difference between string and variable?\n"
   ]
  },
  {
   "cell_type": "code",
   "execution_count": 16,
   "id": "e47eea1d",
   "metadata": {},
   "outputs": [],
   "source": [
    "a=\"Arindam\""
   ]
  },
  {
   "cell_type": "code",
   "execution_count": 18,
   "id": "bec84248",
   "metadata": {},
   "outputs": [
    {
     "name": "stdout",
     "output_type": "stream",
     "text": [
      "Arindam\n"
     ]
    },
    {
     "data": {
      "text/plain": [
       "str"
      ]
     },
     "execution_count": 18,
     "metadata": {},
     "output_type": "execute_result"
    }
   ],
   "source": [
    "print(a) \n",
    "type(a)"
   ]
  },
  {
   "cell_type": "markdown",
   "id": "d658576d",
   "metadata": {},
   "source": [
    "string : String is a data type. Ex- \"Arindam\" is a string.\n",
    "Variable : Varible stores values, it reserved memory location for hold values. Ex- a is a variable."
   ]
  },
  {
   "cell_type": "markdown",
   "id": "6a1d834f",
   "metadata": {},
   "source": [
    "# 3. Describe three different data types."
   ]
  },
  {
   "cell_type": "code",
   "execution_count": 28,
   "id": "6852deac",
   "metadata": {},
   "outputs": [],
   "source": [
    "x=\"String datatype123\"\n",
    "y= 7980644358\n",
    "z= 96.4"
   ]
  },
  {
   "cell_type": "code",
   "execution_count": 29,
   "id": "344c8125",
   "metadata": {},
   "outputs": [
    {
     "data": {
      "text/plain": [
       "str"
      ]
     },
     "execution_count": 29,
     "metadata": {},
     "output_type": "execute_result"
    }
   ],
   "source": [
    "type(x) #String datatype, it stores all types of value. It is the wrapped inside single, double and triple quotes. it consider as string \n"
   ]
  },
  {
   "cell_type": "code",
   "execution_count": 26,
   "id": "6717b3fe",
   "metadata": {},
   "outputs": [
    {
     "data": {
      "text/plain": [
       "int"
      ]
     },
     "execution_count": 26,
     "metadata": {},
     "output_type": "execute_result"
    }
   ],
   "source": [
    "type(y) #integer datatype, a real Number consider as interger, it can be positive or can be negetive.\n"
   ]
  },
  {
   "cell_type": "code",
   "execution_count": 27,
   "id": "9157c31d",
   "metadata": {},
   "outputs": [
    {
     "data": {
      "text/plain": [
       "float"
      ]
     },
     "execution_count": 27,
     "metadata": {},
     "output_type": "execute_result"
    }
   ],
   "source": [
    "\n",
    "type(z) #float datatype,a real Number with decimal point consider as flot, it can be positive or can be negetive."
   ]
  },
  {
   "cell_type": "markdown",
   "id": "b536770a",
   "metadata": {},
   "source": [
    "# 4. What is an expression made up of? What do all expressions do?"
   ]
  },
  {
   "cell_type": "markdown",
   "id": "da83595b",
   "metadata": {},
   "source": [
    "An expression is a combination of operators and operands that is interpreted to produce some other value."
   ]
  },
  {
   "cell_type": "code",
   "execution_count": 32,
   "id": "5f2f3cd7",
   "metadata": {},
   "outputs": [
    {
     "name": "stdout",
     "output_type": "stream",
     "text": [
      "11\n"
     ]
    }
   ],
   "source": [
    "q=5\n",
    "r=6\n",
    "p=q+r # this is an expression, exreession can produce new value using operators and operands\n",
    "print(p)"
   ]
  },
  {
   "cell_type": "markdown",
   "id": "2df20df2",
   "metadata": {},
   "source": [
    "# 5. This assignment statements, like spam = 10. What is the difference between an expression and a statement?"
   ]
  },
  {
   "cell_type": "code",
   "execution_count": 43,
   "id": "849ad4af",
   "metadata": {},
   "outputs": [
    {
     "name": "stdout",
     "output_type": "stream",
     "text": [
      "10\n"
     ]
    }
   ],
   "source": [
    "spam =10\n",
    "print(spam)"
   ]
  },
  {
   "cell_type": "markdown",
   "id": "c47c4e5f",
   "metadata": {},
   "source": [
    "Expession : Expression all always produce or return values.\n",
    "Statement : Statement may or may not produce or display reslut.\n",
    "here, spam=10 it means spam is a value and it holds integer 10."
   ]
  },
  {
   "cell_type": "markdown",
   "id": "20085386",
   "metadata": {},
   "source": [
    "# 6. After running the following code, what does the variable bacon contain?\n",
    "# bacon = 22\n",
    "# bacon + 1"
   ]
  },
  {
   "cell_type": "code",
   "execution_count": 40,
   "id": "549c7736",
   "metadata": {},
   "outputs": [
    {
     "name": "stdout",
     "output_type": "stream",
     "text": [
      "22\n"
     ]
    }
   ],
   "source": [
    "bacon = 22\n",
    "bacon+1\n",
    "print(bacon)"
   ]
  },
  {
   "cell_type": "markdown",
   "id": "231ab4e9",
   "metadata": {},
   "source": [
    "# 7. What should the values of the following two terms be?\n",
    "# &#39;spam&#39; + &#39;spamspam&#39;\n",
    "# &#39;spam&#39; * 3"
   ]
  },
  {
   "cell_type": "code",
   "execution_count": 46,
   "id": "10e83bbc",
   "metadata": {},
   "outputs": [
    {
     "data": {
      "text/plain": [
       "'spamspamspam'"
      ]
     },
     "execution_count": 46,
     "metadata": {},
     "output_type": "execute_result"
    }
   ],
   "source": [
    "'spam' + 'spamspam'\n"
   ]
  },
  {
   "cell_type": "code",
   "execution_count": 45,
   "id": "45ef7882",
   "metadata": {},
   "outputs": [
    {
     "data": {
      "text/plain": [
       "'spamspamspam'"
      ]
     },
     "execution_count": 45,
     "metadata": {},
     "output_type": "execute_result"
    }
   ],
   "source": [
    "'spam'*3"
   ]
  },
  {
   "cell_type": "markdown",
   "id": "c6ae323d",
   "metadata": {},
   "source": [
    "# 8. Why is eggs a valid variable name while 100 is invalid?"
   ]
  },
  {
   "cell_type": "code",
   "execution_count": 48,
   "id": "5e2ea27c",
   "metadata": {},
   "outputs": [],
   "source": [
    "eggs=30"
   ]
  },
  {
   "cell_type": "code",
   "execution_count": 50,
   "id": "1a404db3",
   "metadata": {},
   "outputs": [
    {
     "ename": "SyntaxError",
     "evalue": "cannot assign to literal (<ipython-input-50-715c74387c07>, line 1)",
     "output_type": "error",
     "traceback": [
      "\u001b[1;36m  File \u001b[1;32m\"<ipython-input-50-715c74387c07>\"\u001b[1;36m, line \u001b[1;32m1\u001b[0m\n\u001b[1;33m    100=20\u001b[0m\n\u001b[1;37m    ^\u001b[0m\n\u001b[1;31mSyntaxError\u001b[0m\u001b[1;31m:\u001b[0m cannot assign to literal\n"
     ]
    }
   ],
   "source": [
    "100=20"
   ]
  },
  {
   "cell_type": "markdown",
   "id": "3a783542",
   "metadata": {},
   "source": [
    "100 is a numerical value can't initialize as a variable name.  It can cause some problems like 100=20 its meaning less.\n",
    "but egg =30 it justifide annd meaningful"
   ]
  },
  {
   "cell_type": "markdown",
   "id": "c81d76e7",
   "metadata": {},
   "source": [
    "# 9. What three functions can be used to get the integer, floating-point number, or string version of a value?"
   ]
  },
  {
   "cell_type": "code",
   "execution_count": 57,
   "id": "c08acf51",
   "metadata": {},
   "outputs": [
    {
     "name": "stdout",
     "output_type": "stream",
     "text": [
      "Enter integer: 56\n",
      "56\n"
     ]
    },
    {
     "data": {
      "text/plain": [
       "int"
      ]
     },
     "execution_count": 57,
     "metadata": {},
     "output_type": "execute_result"
    }
   ],
   "source": [
    "i=int(input(\"Enter integer: \"))\n",
    "print(i)\n",
    "type(i)"
   ]
  },
  {
   "cell_type": "code",
   "execution_count": 58,
   "id": "d4432e7b",
   "metadata": {},
   "outputs": [
    {
     "name": "stdout",
     "output_type": "stream",
     "text": [
      "Enter float: 45.23\n",
      "45.23\n"
     ]
    },
    {
     "data": {
      "text/plain": [
       "float"
      ]
     },
     "execution_count": 58,
     "metadata": {},
     "output_type": "execute_result"
    }
   ],
   "source": [
    "j=float(input(\"Enter float: \"))\n",
    "print(j)\n",
    "type(j)"
   ]
  },
  {
   "cell_type": "code",
   "execution_count": 60,
   "id": "35726e82",
   "metadata": {},
   "outputs": [
    {
     "name": "stdout",
     "output_type": "stream",
     "text": [
      "Enter any thing : 7895\n",
      "7895\n"
     ]
    },
    {
     "data": {
      "text/plain": [
       "str"
      ]
     },
     "execution_count": 60,
     "metadata": {},
     "output_type": "execute_result"
    }
   ],
   "source": [
    "n=input(\"Enter any thing : \") #in python input function take default as 'string'\n",
    "print(n)\n",
    "type(n)"
   ]
  },
  {
   "cell_type": "markdown",
   "id": "b07a3f0d",
   "metadata": {},
   "source": [
    "# 10. Why does this expression cause an error? How can you fix it?\n",
    "# &#39;I have eaten &#39; + 99 + &#39; burritos.&#39;"
   ]
  },
  {
   "cell_type": "code",
   "execution_count": 61,
   "id": "7471bd54",
   "metadata": {},
   "outputs": [
    {
     "ename": "TypeError",
     "evalue": "can only concatenate str (not \"int\") to str",
     "output_type": "error",
     "traceback": [
      "\u001b[1;31m---------------------------------------------------------------------------\u001b[0m",
      "\u001b[1;31mTypeError\u001b[0m                                 Traceback (most recent call last)",
      "\u001b[1;32m<ipython-input-61-44d180b5d262>\u001b[0m in \u001b[0;36m<module>\u001b[1;34m\u001b[0m\n\u001b[1;32m----> 1\u001b[1;33m \u001b[1;34m'I have eaten '\u001b[0m \u001b[1;33m+\u001b[0m \u001b[1;36m99\u001b[0m \u001b[1;33m+\u001b[0m \u001b[1;34m' burritos'\u001b[0m \u001b[1;31m# string only concatinate with only string but here 99 is a numerical value.\u001b[0m\u001b[1;33m\u001b[0m\u001b[1;33m\u001b[0m\u001b[0m\n\u001b[0m",
      "\u001b[1;31mTypeError\u001b[0m: can only concatenate str (not \"int\") to str"
     ]
    }
   ],
   "source": [
    "'I have eaten ' + 99 + ' burritos' # string only concatinate with only string but here 99 is a numerical value."
   ]
  },
  {
   "cell_type": "code",
   "execution_count": 62,
   "id": "f85e62ac",
   "metadata": {},
   "outputs": [
    {
     "data": {
      "text/plain": [
       "'I have eaten 99 burritos'"
      ]
     },
     "execution_count": 62,
     "metadata": {},
     "output_type": "execute_result"
    }
   ],
   "source": [
    "# to fix this problem\n",
    "\n",
    "'I have eaten ' + str(99) + ' burritos'"
   ]
  },
  {
   "cell_type": "code",
   "execution_count": null,
   "id": "0fcb3d82",
   "metadata": {},
   "outputs": [],
   "source": []
  }
 ],
 "metadata": {
  "kernelspec": {
   "display_name": "Python 3",
   "language": "python",
   "name": "python3"
  },
  "language_info": {
   "codemirror_mode": {
    "name": "ipython",
    "version": 3
   },
   "file_extension": ".py",
   "mimetype": "text/x-python",
   "name": "python",
   "nbconvert_exporter": "python",
   "pygments_lexer": "ipython3",
   "version": "3.8.8"
  }
 },
 "nbformat": 4,
 "nbformat_minor": 5
}
