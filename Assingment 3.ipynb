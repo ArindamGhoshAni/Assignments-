{
 "cells": [
  {
   "cell_type": "markdown",
   "id": "3d67a176",
   "metadata": {},
   "source": [
    "1. funcation are advantageous because it can use in multiple time with multiple values. We can reuse our code. When we need it we can call that function.\n"
   ]
  },
  {
   "cell_type": "code",
   "execution_count": 2,
   "id": "74375dd8",
   "metadata": {},
   "outputs": [],
   "source": [
    "def add(a,b):\n",
    "    return a+b"
   ]
  },
  {
   "cell_type": "code",
   "execution_count": 3,
   "id": "521b5f61",
   "metadata": {},
   "outputs": [
    {
     "data": {
      "text/plain": [
       "5"
      ]
     },
     "execution_count": 3,
     "metadata": {},
     "output_type": "execute_result"
    }
   ],
   "source": [
    "add(2,3)"
   ]
  },
  {
   "cell_type": "code",
   "execution_count": 4,
   "id": "5ba7c584",
   "metadata": {},
   "outputs": [
    {
     "data": {
      "text/plain": [
       "3000"
      ]
     },
     "execution_count": 4,
     "metadata": {},
     "output_type": "execute_result"
    }
   ],
   "source": [
    "add(1000,2000)"
   ]
  },
  {
   "cell_type": "markdown",
   "id": "15e37aa6",
   "metadata": {},
   "source": [
    "2. When we call with function name and pass same arguments then function are called. Same name and same arguments pass is called the function"
   ]
  },
  {
   "cell_type": "code",
   "execution_count": 5,
   "id": "3ae86867",
   "metadata": {},
   "outputs": [],
   "source": [
    "def mul(x,y):\n",
    "    return x*y"
   ]
  },
  {
   "cell_type": "code",
   "execution_count": 6,
   "id": "027a4419",
   "metadata": {},
   "outputs": [
    {
     "data": {
      "text/plain": [
       "15"
      ]
     },
     "execution_count": 6,
     "metadata": {},
     "output_type": "execute_result"
    }
   ],
   "source": [
    "mul(3,5) #same name and same count of arguments."
   ]
  },
  {
   "cell_type": "code",
   "execution_count": 7,
   "id": "87daf69a",
   "metadata": {},
   "outputs": [
    {
     "ename": "TypeError",
     "evalue": "mul() missing 1 required positional argument: 'y'",
     "output_type": "error",
     "traceback": [
      "\u001b[1;31m---------------------------------------------------------------------------\u001b[0m",
      "\u001b[1;31mTypeError\u001b[0m                                 Traceback (most recent call last)",
      "\u001b[1;32m<ipython-input-7-943b00750f8a>\u001b[0m in \u001b[0;36m<module>\u001b[1;34m\u001b[0m\n\u001b[1;32m----> 1\u001b[1;33m \u001b[0mmul\u001b[0m\u001b[1;33m(\u001b[0m\u001b[1;36m3\u001b[0m\u001b[1;33m)\u001b[0m\u001b[1;33m\u001b[0m\u001b[1;33m\u001b[0m\u001b[0m\n\u001b[0m",
      "\u001b[1;31mTypeError\u001b[0m: mul() missing 1 required positional argument: 'y'"
     ]
    }
   ],
   "source": [
    "mul(3)"
   ]
  },
  {
   "cell_type": "markdown",
   "id": "193c3a89",
   "metadata": {},
   "source": [
    "3. Def statement create function. define function name(arguments)"
   ]
  },
  {
   "cell_type": "markdown",
   "id": "1df81dc0",
   "metadata": {},
   "source": [
    "4.funtion is funtion define and when it needs then its time to call. "
   ]
  },
  {
   "cell_type": "code",
   "execution_count": 11,
   "id": "868b0aec",
   "metadata": {},
   "outputs": [],
   "source": [
    "def fun(a,b,c ):\n",
    "    return a+b+c   #function define"
   ]
  },
  {
   "cell_type": "code",
   "execution_count": 12,
   "id": "a69f62b2",
   "metadata": {},
   "outputs": [
    {
     "data": {
      "text/plain": [
       "10"
      ]
     },
     "execution_count": 12,
     "metadata": {},
     "output_type": "execute_result"
    }
   ],
   "source": [
    "fun(3,5,2) # function call"
   ]
  },
  {
   "cell_type": "markdown",
   "id": "7d37cfcb",
   "metadata": {},
   "source": [
    "5. One Global scope in python. One Local scope in python"
   ]
  },
  {
   "cell_type": "code",
   "execution_count": 15,
   "id": "1148ca50",
   "metadata": {},
   "outputs": [],
   "source": [
    "a=3\n",
    "def fun(a,b):\n",
    "    return a+b"
   ]
  },
  {
   "cell_type": "code",
   "execution_count": 17,
   "id": "9d7e7819",
   "metadata": {},
   "outputs": [
    {
     "data": {
      "text/plain": [
       "6"
      ]
     },
     "execution_count": 17,
     "metadata": {},
     "output_type": "execute_result"
    }
   ],
   "source": [
    "fun(a,3)"
   ]
  },
  {
   "cell_type": "code",
   "execution_count": 20,
   "id": "e7ec85a7",
   "metadata": {},
   "outputs": [
    {
     "data": {
      "text/plain": [
       "13"
      ]
     },
     "execution_count": 20,
     "metadata": {},
     "output_type": "execute_result"
    }
   ],
   "source": [
    "a+10"
   ]
  },
  {
   "cell_type": "code",
   "execution_count": 57,
   "id": "767787ce",
   "metadata": {},
   "outputs": [],
   "source": [
    "def fun2():\n",
    "    x=3\n",
    "    print(x)\n",
    "    "
   ]
  },
  {
   "cell_type": "code",
   "execution_count": 58,
   "id": "d8c8ca4e",
   "metadata": {},
   "outputs": [
    {
     "name": "stdout",
     "output_type": "stream",
     "text": [
      "3\n"
     ]
    }
   ],
   "source": [
    "fun2()"
   ]
  },
  {
   "cell_type": "code",
   "execution_count": 59,
   "id": "59f8a827",
   "metadata": {},
   "outputs": [
    {
     "ename": "NameError",
     "evalue": "name 'x' is not defined",
     "output_type": "error",
     "traceback": [
      "\u001b[1;31m---------------------------------------------------------------------------\u001b[0m",
      "\u001b[1;31mNameError\u001b[0m                                 Traceback (most recent call last)",
      "\u001b[1;32m<ipython-input-59-6fcf9dfbd479>\u001b[0m in \u001b[0;36m<module>\u001b[1;34m\u001b[0m\n\u001b[1;32m----> 1\u001b[1;33m \u001b[0mx\u001b[0m\u001b[1;33m\u001b[0m\u001b[1;33m\u001b[0m\u001b[0m\n\u001b[0m",
      "\u001b[1;31mNameError\u001b[0m: name 'x' is not defined"
     ]
    }
   ],
   "source": [
    "x"
   ]
  },
  {
   "cell_type": "markdown",
   "id": "b1720704",
   "metadata": {},
   "source": [
    "6.funtion returns value of local scope"
   ]
  },
  {
   "cell_type": "code",
   "execution_count": 63,
   "id": "716c1748",
   "metadata": {},
   "outputs": [],
   "source": [
    "def fun3():\n",
    "    p=34\n",
    "    print(p)\n",
    "    "
   ]
  },
  {
   "cell_type": "code",
   "execution_count": 64,
   "id": "ae9de113",
   "metadata": {},
   "outputs": [
    {
     "name": "stdout",
     "output_type": "stream",
     "text": [
      "34\n"
     ]
    }
   ],
   "source": [
    "fun3()"
   ]
  },
  {
   "cell_type": "markdown",
   "id": "60681223",
   "metadata": {},
   "source": [
    "7.What is the concept of a return value? Is it possible to have a return value in an expression?"
   ]
  },
  {
   "cell_type": "code",
   "execution_count": 2,
   "id": "8ffec535",
   "metadata": {},
   "outputs": [],
   "source": [
    "def return_value(a,b):\n",
    "    if a>b:\n",
    "        return a # ,'is greater'\n",
    "    else:\n",
    "        return b #,'is greater'"
   ]
  },
  {
   "cell_type": "code",
   "execution_count": 3,
   "id": "c4fea61d",
   "metadata": {},
   "outputs": [
    {
     "data": {
      "text/plain": [
       "int"
      ]
     },
     "execution_count": 3,
     "metadata": {},
     "output_type": "execute_result"
    }
   ],
   "source": [
    "type(return_value(3,6))"
   ]
  },
  {
   "cell_type": "code",
   "execution_count": 4,
   "id": "4f9ad2d3",
   "metadata": {},
   "outputs": [
    {
     "data": {
      "text/plain": [
       "6"
      ]
     },
     "execution_count": 4,
     "metadata": {},
     "output_type": "execute_result"
    }
   ],
   "source": [
    "return_value(3,6)"
   ]
  },
  {
   "cell_type": "code",
   "execution_count": 32,
   "id": "e3c1eed0",
   "metadata": {},
   "outputs": [],
   "source": [
    "def return_value(a,b):\n",
    "    c=a+b\n",
    "    return c"
   ]
  },
  {
   "cell_type": "code",
   "execution_count": 33,
   "id": "cfbdfbaf",
   "metadata": {},
   "outputs": [],
   "source": [
    "r = return_value(4,6)**3 #return value is an integer we can use it as an expression "
   ]
  },
  {
   "cell_type": "code",
   "execution_count": 30,
   "id": "0b92a037",
   "metadata": {},
   "outputs": [
    {
     "data": {
      "text/plain": [
       "1000"
      ]
     },
     "execution_count": 30,
     "metadata": {},
     "output_type": "execute_result"
    }
   ],
   "source": [
    "r"
   ]
  },
  {
   "cell_type": "markdown",
   "id": "db7c70ff",
   "metadata": {},
   "source": [
    "8.If a function does not have a return statement, what is the return value of a call to that function?"
   ]
  },
  {
   "cell_type": "code",
   "execution_count": 40,
   "id": "f58ea392",
   "metadata": {},
   "outputs": [],
   "source": [
    "def return_value1(a,b):\n",
    "    c=a+b"
   ]
  },
  {
   "cell_type": "code",
   "execution_count": 41,
   "id": "f8f1da3a",
   "metadata": {},
   "outputs": [
    {
     "data": {
      "text/plain": [
       "NoneType"
      ]
     },
     "execution_count": 41,
     "metadata": {},
     "output_type": "execute_result"
    }
   ],
   "source": [
    "type(return_value1(8,9))#returns none type"
   ]
  },
  {
   "cell_type": "markdown",
   "id": "dd4176fd",
   "metadata": {},
   "source": [
    "9.How do you make a function variable refer to the global variable?\n"
   ]
  },
  {
   "cell_type": "code",
   "execution_count": 53,
   "id": "4c8b5e24",
   "metadata": {},
   "outputs": [],
   "source": [
    "p=10\n",
    "def test():\n",
    "    p=20\n",
    "    print(p)"
   ]
  },
  {
   "cell_type": "code",
   "execution_count": 54,
   "id": "689fd693",
   "metadata": {},
   "outputs": [
    {
     "data": {
      "text/plain": [
       "10"
      ]
     },
     "execution_count": 54,
     "metadata": {},
     "output_type": "execute_result"
    }
   ],
   "source": [
    "p"
   ]
  },
  {
   "cell_type": "code",
   "execution_count": 55,
   "id": "e2a66a18",
   "metadata": {},
   "outputs": [
    {
     "name": "stdout",
     "output_type": "stream",
     "text": [
      "20\n"
     ]
    }
   ],
   "source": [
    "test()"
   ]
  },
  {
   "cell_type": "code",
   "execution_count": 56,
   "id": "f9271c88",
   "metadata": {},
   "outputs": [],
   "source": [
    "p=10\n",
    "def test1():\n",
    "    global w #using global keyword\n",
    "    w=20\n",
    "    \n",
    "    "
   ]
  },
  {
   "cell_type": "code",
   "execution_count": 57,
   "id": "ad641ff3",
   "metadata": {},
   "outputs": [],
   "source": [
    "test1()"
   ]
  },
  {
   "cell_type": "code",
   "execution_count": 58,
   "id": "587167c7",
   "metadata": {},
   "outputs": [
    {
     "name": "stdout",
     "output_type": "stream",
     "text": [
      "20\n"
     ]
    }
   ],
   "source": [
    "print(w)"
   ]
  },
  {
   "cell_type": "markdown",
   "id": "d4b77111",
   "metadata": {},
   "source": [
    "10.What is the data type of None?"
   ]
  },
  {
   "cell_type": "code",
   "execution_count": 59,
   "id": "dd27c771",
   "metadata": {},
   "outputs": [],
   "source": [
    "def non(a,b):\n",
    "    print(a+b)"
   ]
  },
  {
   "cell_type": "code",
   "execution_count": 61,
   "id": "3fe881df",
   "metadata": {},
   "outputs": [
    {
     "name": "stdout",
     "output_type": "stream",
     "text": [
      "8\n"
     ]
    },
    {
     "data": {
      "text/plain": [
       "NoneType"
      ]
     },
     "execution_count": 61,
     "metadata": {},
     "output_type": "execute_result"
    }
   ],
   "source": [
    "type(non(3,5))#none datatype contains null value,print only shows the output."
   ]
  },
  {
   "cell_type": "code",
   "execution_count": 62,
   "id": "d7d7078c",
   "metadata": {},
   "outputs": [
    {
     "name": "stdout",
     "output_type": "stream",
     "text": [
      "7\n"
     ]
    },
    {
     "ename": "TypeError",
     "evalue": "unsupported operand type(s) for +: 'NoneType' and 'int'",
     "output_type": "error",
     "traceback": [
      "\u001b[1;31m---------------------------------------------------------------------------\u001b[0m",
      "\u001b[1;31mTypeError\u001b[0m                                 Traceback (most recent call last)",
      "\u001b[1;32m<ipython-input-62-557408af4e7c>\u001b[0m in \u001b[0;36m<module>\u001b[1;34m\u001b[0m\n\u001b[1;32m----> 1\u001b[1;33m \u001b[0mnon\u001b[0m\u001b[1;33m(\u001b[0m\u001b[1;36m3\u001b[0m\u001b[1;33m,\u001b[0m\u001b[1;36m4\u001b[0m\u001b[1;33m)\u001b[0m\u001b[1;33m+\u001b[0m\u001b[1;36m4\u001b[0m\u001b[1;33m\u001b[0m\u001b[1;33m\u001b[0m\u001b[0m\n\u001b[0m",
      "\u001b[1;31mTypeError\u001b[0m: unsupported operand type(s) for +: 'NoneType' and 'int'"
     ]
    }
   ],
   "source": [
    "non(3,4)+4"
   ]
  },
  {
   "cell_type": "markdown",
   "id": "4b5c494b",
   "metadata": {},
   "source": [
    "11.What does the sentence import areallyourpetsnamederic do?"
   ]
  },
  {
   "cell_type": "code",
   "execution_count": null,
   "id": "8e1bafbd",
   "metadata": {},
   "outputs": [],
   "source": [
    "import a module areallyourpetsnamederic"
   ]
  },
  {
   "cell_type": "markdown",
   "id": "8b747bc4",
   "metadata": {},
   "source": [
    "12.If you had a bacon() feature in a spam module, what would you call it after importing spam?"
   ]
  },
  {
   "cell_type": "code",
   "execution_count": null,
   "id": "bce841de",
   "metadata": {},
   "outputs": [],
   "source": [
    "spam.bacon()"
   ]
  },
  {
   "cell_type": "markdown",
   "id": "53545012",
   "metadata": {},
   "source": [
    "13.What can you do to save a programme from crashing if it encounters an error?"
   ]
  },
  {
   "cell_type": "code",
   "execution_count": null,
   "id": "467c0f70",
   "metadata": {},
   "outputs": [],
   "source": [
    "we can use try and ecpect block. If its meets any error then except block are working."
   ]
  },
  {
   "cell_type": "markdown",
   "id": "ec8af06d",
   "metadata": {},
   "source": [
    "14.What is the purpose of the try clause? What is the purpose of the except clause?"
   ]
  },
  {
   "cell_type": "markdown",
   "id": "b2d4434c",
   "metadata": {},
   "source": [
    "ans:\n",
    "if there are no error then try block is running and follow the code as usual. But if there are any error then try block close whole execution push program to except block and except block are working as per code in except block."
   ]
  },
  {
   "cell_type": "code",
   "execution_count": null,
   "id": "eb7e4dcb",
   "metadata": {},
   "outputs": [],
   "source": []
  }
 ],
 "metadata": {
  "kernelspec": {
   "display_name": "Python 3",
   "language": "python",
   "name": "python3"
  },
  "language_info": {
   "codemirror_mode": {
    "name": "ipython",
    "version": 3
   },
   "file_extension": ".py",
   "mimetype": "text/x-python",
   "name": "python",
   "nbconvert_exporter": "python",
   "pygments_lexer": "ipython3",
   "version": "3.8.8"
  }
 },
 "nbformat": 4,
 "nbformat_minor": 5
}
